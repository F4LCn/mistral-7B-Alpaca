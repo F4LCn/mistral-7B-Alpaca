{
 "cells": [
  {
   "cell_type": "code",
   "execution_count": null,
   "id": "initial_id",
   "metadata": {
    "collapsed": true
   },
   "outputs": [],
   "source": [
    "import torch\n",
    "from transformers import AutoTokenizer\n",
    "from transformers import BitsAndBytesConfig, AutoModelForCausalLM"
   ]
  },
  {
   "cell_type": "code",
   "execution_count": null,
   "outputs": [],
   "source": [
    "base_model_id = \"mistralai/Mistral-7B-v0.1\"\n",
    "model_max_length = 512\n",
    "project = \"alpaca-finetune\"\n",
    "base_model_name = \"mistral\"\n",
    "run_name = base_model_name + \"-\" + project\n",
    "output_dir = \"./\" + run_name"
   ],
   "metadata": {
    "collapsed": false
   },
   "id": "590bfe4700d78ecc"
  },
  {
   "cell_type": "code",
   "execution_count": null,
   "outputs": [],
   "source": [
    "# tokenizer\n",
    "tokenizer = AutoTokenizer.from_pretrained(base_model_id, add_bos_token=True)"
   ],
   "metadata": {
    "collapsed": false
   },
   "id": "c3ad788e90f3516d"
  },
  {
   "cell_type": "code",
   "execution_count": null,
   "outputs": [],
   "source": [
    "# model\n",
    "bnb = BitsAndBytesConfig(load_in_4bit=True,\n",
    "                         bnb_4bit_use_double_quant=True,\n",
    "                         bnb_4bit_quant_type=\"nf4\",\n",
    "                         bnb_4bit_compute_dtype=torch.bfloat16)\n",
    "\n",
    "model = AutoModelForCausalLM.from_pretrained(base_model_id, quantization_config=bnb)"
   ],
   "metadata": {
    "collapsed": false
   },
   "id": "bc1a0507bdbe4228"
  },
  {
   "cell_type": "code",
   "execution_count": null,
   "outputs": [],
   "source": [
    "# evaluation inputs\n",
    "eval_input = {'instruction': 'Construct a metaphor that compares life to a road.'}\n",
    "eval_prompt = (\"Below is an instruction that describes a task. \"\n",
    "            \"Write a response that appropriately completes the request.\\n\\n\"\n",
    "            \"### Instruction:\\n{instruction}\\n\\n### Response:\\n\").format_map(eval_input)"
   ],
   "metadata": {
    "collapsed": false
   },
   "id": "1459137aad90c14"
  },
  {
   "cell_type": "code",
   "execution_count": null,
   "outputs": [],
   "source": [
    "# eval\n",
    "input = tokenizer(eval_prompt, return_tensors=\"pt\").to('cuda')\n",
    "model.eval()\n",
    "with torch.no_grad():\n",
    "    print(tokenizer.decode(model.generate(**input, max_new_tokens=model_max_length)[0]))"
   ],
   "metadata": {
    "collapsed": false
   },
   "id": "babb041db9e5f3a8"
  },
  {
   "cell_type": "code",
   "execution_count": null,
   "outputs": [],
   "source": [],
   "metadata": {
    "collapsed": false
   },
   "id": "af326691ad625aa4"
  }
 ],
 "metadata": {
  "kernelspec": {
   "display_name": "Python 3",
   "language": "python",
   "name": "python3"
  },
  "language_info": {
   "codemirror_mode": {
    "name": "ipython",
    "version": 2
   },
   "file_extension": ".py",
   "mimetype": "text/x-python",
   "name": "python",
   "nbconvert_exporter": "python",
   "pygments_lexer": "ipython2",
   "version": "2.7.6"
  }
 },
 "nbformat": 4,
 "nbformat_minor": 5
}
