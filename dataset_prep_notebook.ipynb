{
 "cells": [
  {
   "cell_type": "code",
   "execution_count": 20,
   "id": "initial_id",
   "metadata": {
    "collapsed": true,
    "ExecuteTime": {
     "end_time": "2023-11-25T14:58:30.786764100Z",
     "start_time": "2023-11-25T14:58:29.293977600Z"
    }
   },
   "outputs": [],
   "source": [
    "import numpy as np\n",
    "import pandas as pd\n",
    "from transformers import AutoTokenizer"
   ]
  },
  {
   "cell_type": "code",
   "execution_count": 23,
   "outputs": [],
   "source": [
    "base_model_id = \"mistralai/Mistral-7B-v0.1\"\n",
    "model_max_length = 512\n",
    "project = \"alpaca-finetune\"\n",
    "base_model_name = \"mistral\"\n",
    "run_name = base_model_name + \"-\" + project\n",
    "output_dir = \"./\" + run_name\n",
    "eos_token = '</s>'"
   ],
   "metadata": {
    "collapsed": false,
    "ExecuteTime": {
     "end_time": "2023-11-25T15:00:26.741488900Z",
     "start_time": "2023-11-25T15:00:26.724845200Z"
    }
   },
   "id": "89d14aaade474cfd"
  },
  {
   "cell_type": "code",
   "execution_count": 8,
   "outputs": [],
   "source": [
    "dataset = pd.read_json('./data/alpaca_gpt4_data.json')"
   ],
   "metadata": {
    "collapsed": false,
    "ExecuteTime": {
     "end_time": "2023-11-25T14:54:21.841683700Z",
     "start_time": "2023-11-25T14:54:21.697583400Z"
    }
   },
   "id": "b89e884daac87710"
  },
  {
   "cell_type": "code",
   "execution_count": 9,
   "outputs": [],
   "source": [
    "def gen_dataset_splits(ds, perc: []):\n",
    "    ds_len = len(ds)\n",
    "    train_len = int(ds_len * perc[0])\n",
    "    eval_len = int(ds_len * perc[1])\n",
    "    test_len = ds_len - train_len - eval_len\n",
    "    splits = np.concatenate([\n",
    "        np.zeros(train_len),\n",
    "        np.ones(eval_len),\n",
    "        np.full(test_len, 2)\n",
    "    ])\n",
    "    np.random.shuffle(splits)\n",
    "    return splits"
   ],
   "metadata": {
    "collapsed": false,
    "ExecuteTime": {
     "end_time": "2023-11-25T14:54:22.102888100Z",
     "start_time": "2023-11-25T14:54:22.096857600Z"
    }
   },
   "id": "e18ff0bba1292ec3"
  },
  {
   "cell_type": "code",
   "execution_count": 11,
   "outputs": [],
   "source": [
    "dataset['split'] = gen_dataset_splits(dataset, [.9, .01])"
   ],
   "metadata": {
    "collapsed": false,
    "ExecuteTime": {
     "end_time": "2023-11-25T14:54:38.292490800Z",
     "start_time": "2023-11-25T14:54:38.283980200Z"
    }
   },
   "id": "7afea6e6d7a2bdb"
  },
  {
   "cell_type": "code",
   "execution_count": 16,
   "outputs": [],
   "source": [
    "def alpaca_prompt(row):\n",
    "    return (\"Below is an instruction that describes a task. \"\n",
    "            \"Write a response that appropriately completes the request.\\n\\n\"\n",
    "            \"### Instruction:\\n{instruction}\\n\\n### Response:\\n\").format_map(row)\n",
    "\n",
    "\n",
    "def alpaca_prompt_input(row):\n",
    "    return (\"Below is an instruction that describes a task, paired with an input that provides further context. \"\n",
    "            \"Write a response that appropriately completes the request.\\n\\n\"\n",
    "            \"### Instruction:\\n{instruction}\\n\\n### Input:\\n{input}\\n\\n### Response:\\n\").format_map(row)\n",
    "\n",
    "\n",
    "def gen_prompt(row):\n",
    "    return (alpaca_prompt(row) if row['input'] == \"\" else alpaca_prompt_input(row)) + row['output']"
   ],
   "metadata": {
    "collapsed": false,
    "ExecuteTime": {
     "end_time": "2023-11-25T14:57:22.814132500Z",
     "start_time": "2023-11-25T14:57:22.806624800Z"
    }
   },
   "id": "b218f4d19049bd80"
  },
  {
   "cell_type": "code",
   "execution_count": 17,
   "outputs": [],
   "source": [
    "dataset['prompt'] = dataset.apply(lambda x: gen_prompt(x), axis=1)"
   ],
   "metadata": {
    "collapsed": false,
    "ExecuteTime": {
     "end_time": "2023-11-25T14:57:23.789838100Z",
     "start_time": "2023-11-25T14:57:23.496797400Z"
    }
   },
   "id": "bb1879f50437f85b"
  },
  {
   "cell_type": "code",
   "execution_count": 26,
   "outputs": [],
   "source": [
    "tokenizer = AutoTokenizer.from_pretrained(base_model_id, model_max_length=model_max_length)"
   ],
   "metadata": {
    "collapsed": false,
    "ExecuteTime": {
     "end_time": "2023-11-25T15:00:45.856997300Z",
     "start_time": "2023-11-25T15:00:45.700780800Z"
    }
   },
   "id": "c17ef4af85e5cf0e"
  },
  {
   "cell_type": "code",
   "execution_count": null,
   "outputs": [],
   "source": [],
   "metadata": {
    "collapsed": false
   },
   "id": "45ad9a98f27d509d"
  }
 ],
 "metadata": {
  "kernelspec": {
   "display_name": "Python 3",
   "language": "python",
   "name": "python3"
  },
  "language_info": {
   "codemirror_mode": {
    "name": "ipython",
    "version": 2
   },
   "file_extension": ".py",
   "mimetype": "text/x-python",
   "name": "python",
   "nbconvert_exporter": "python",
   "pygments_lexer": "ipython2",
   "version": "2.7.6"
  }
 },
 "nbformat": 4,
 "nbformat_minor": 5
}
