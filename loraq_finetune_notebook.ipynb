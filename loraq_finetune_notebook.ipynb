{
 "cells": [
  {
   "cell_type": "code",
   "execution_count": null,
   "id": "initial_id",
   "metadata": {
    "collapsed": true
   },
   "outputs": [],
   "source": [
    "from datasets import load_from_disk\n",
    "from transformers import AutoTokenizer\n",
    "import torch\n",
    "from transformers import BitsAndBytesConfig, AutoModelForCausalLM, Trainer, TrainingArguments, \\\n",
    "    DataCollatorForLanguageModeling\n",
    "from peft import prepare_model_for_kbit_training, LoraConfig, get_peft_model\n",
    "from datetime import datetime"
   ]
  },
  {
   "cell_type": "code",
   "execution_count": null,
   "outputs": [],
   "source": [
    "base_model_id = \"mistralai/Mistral-7B-v0.1\"\n",
    "model_max_length = 512\n",
    "project = \"alpaca-finetune\"\n",
    "base_model_name = \"mistral\"\n",
    "run_name = base_model_name + \"-\" + project\n",
    "output_dir = \"./\" + run_name\n",
    "dataset_name = \"alpaca_code\"\n",
    "dataset_dir = \"./datasets/\" + dataset_name"
   ],
   "metadata": {
    "collapsed": false
   },
   "id": "db45711027bd9776"
  },
  {
   "cell_type": "code",
   "execution_count": null,
   "outputs": [],
   "source": [
    "packed_dataset = load_from_disk(dataset_dir)\n",
    "train_dataset = packed_dataset['train']\n",
    "eval_dataset = packed_dataset['eval']"
   ],
   "metadata": {
    "collapsed": false
   },
   "id": "bf834e1a0796f5f6"
  },
  {
   "cell_type": "code",
   "execution_count": null,
   "outputs": [],
   "source": [
    "# tokenizer\n",
    "tokenizer = AutoTokenizer.from_pretrained(base_model_id, model_max_length=model_max_length)\n",
    "tokenizer.pad_token = tokenizer.eos_token"
   ],
   "metadata": {
    "collapsed": false
   },
   "id": "f4101e04cb3da713"
  },
  {
   "cell_type": "code",
   "execution_count": null,
   "outputs": [],
   "source": [
    "# base model\n",
    "bnb = BitsAndBytesConfig(load_in_4bit=True,\n",
    "                         bnb_4bit_use_double_quant=True,\n",
    "                         bnb_4bit_quant_type=\"nf4\",\n",
    "                         bnb_4bit_compute_dtype=torch.bfloat16)\n",
    "\n",
    "model = AutoModelForCausalLM.from_pretrained(base_model_id, quantization_config=bnb)"
   ],
   "metadata": {
    "collapsed": false
   },
   "id": "28c55958fa41810c"
  },
  {
   "cell_type": "code",
   "execution_count": null,
   "outputs": [],
   "source": [
    "# lora\n",
    "model = prepare_model_for_kbit_training(model)\n",
    "\n",
    "lora = LoraConfig(\n",
    "    r=8,\n",
    "    lora_alpha=16,\n",
    "    target_modules=[\n",
    "        \"q_proj\",\n",
    "        \"k_proj\",\n",
    "        \"v_proj\",\n",
    "        \"o_proj\",\n",
    "        \"gate_proj\",\n",
    "        \"up_proj\",\n",
    "        \"down_proj\",\n",
    "        \"lm_head\",\n",
    "    ],\n",
    "    bias=\"none\",\n",
    "    lora_dropout=0.05,\n",
    "    task_type=\"CAUSAL_LM\",\n",
    ")\n",
    "\n",
    "model = get_peft_model(model, lora)"
   ],
   "metadata": {
    "collapsed": false
   },
   "id": "b6b5ccf78819c592"
  },
  {
   "cell_type": "code",
   "execution_count": null,
   "outputs": [],
   "source": [
    "# trainer\n",
    "trainer = Trainer(\n",
    "    model=model,\n",
    "    train_dataset=train_dataset,\n",
    "    eval_dataset=eval_dataset,\n",
    "    args=TrainingArguments(\n",
    "        output_dir=output_dir,\n",
    "        warmup_steps=5,\n",
    "        resume_from_checkpoint=f\"{output_dir}/checkpoint-1000\",\n",
    "        per_device_train_batch_size=8,\n",
    "        gradient_accumulation_steps=4,\n",
    "        max_steps=100,\n",
    "        learning_rate=2.5e-5,\n",
    "        bf16=True,\n",
    "        optim=\"paged_adamw_8bit\",\n",
    "        logging_dir='./logs',\n",
    "        logging_steps=10,\n",
    "        save_steps=100,\n",
    "        save_strategy=\"steps\",\n",
    "        eval_steps=100,\n",
    "        evaluation_strategy=\"steps\",\n",
    "        do_eval=True,\n",
    "        report_to=['tensorboard'],\n",
    "        run_name=f\"{run_name}-{datetime.now().strftime('%Y-%m-%d-%H-%M')}\"\n",
    "    ),\n",
    "    data_collator=DataCollatorForLanguageModeling(tokenizer, mlm=False)\n",
    ")\n",
    "model.config.use_cache = False"
   ],
   "metadata": {
    "collapsed": false
   },
   "id": "d4739a4337200274"
  },
  {
   "cell_type": "code",
   "execution_count": null,
   "outputs": [],
   "source": [
    "# training loop\n",
    "trainer.train(resume_from_checkpoint=True)"
   ],
   "metadata": {
    "collapsed": false
   },
   "id": "3967f7f7fa34c172"
  }
 ],
 "metadata": {
  "kernelspec": {
   "display_name": "Python 3",
   "language": "python",
   "name": "python3"
  },
  "language_info": {
   "codemirror_mode": {
    "name": "ipython",
    "version": 2
   },
   "file_extension": ".py",
   "mimetype": "text/x-python",
   "name": "python",
   "nbconvert_exporter": "python",
   "pygments_lexer": "ipython2",
   "version": "2.7.6"
  }
 },
 "nbformat": 4,
 "nbformat_minor": 5
}
