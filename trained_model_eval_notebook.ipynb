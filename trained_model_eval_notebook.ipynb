{
 "cells": [
  {
   "cell_type": "code",
   "execution_count": 1,
   "id": "initial_id",
   "metadata": {
    "collapsed": true,
    "ExecuteTime": {
     "end_time": "2023-11-26T18:36:17.309939600Z",
     "start_time": "2023-11-26T18:36:15.182698100Z"
    }
   },
   "outputs": [
    {
     "name": "stdout",
     "output_type": "stream",
     "text": [
      "bin C:\\Users\\F4LC0n\\AppData\\Local\\Programs\\Python\\Python310\\lib\\site-packages\\bitsandbytes\\libbitsandbytes_cuda121.dll\n"
     ]
    }
   ],
   "source": [
    "import torch\n",
    "from transformers import AutoTokenizer\n",
    "from transformers import BitsAndBytesConfig, AutoModelForCausalLM\n",
    "from peft import PeftModel"
   ]
  },
  {
   "cell_type": "code",
   "execution_count": 2,
   "outputs": [],
   "source": [
    "base_model_id = \"mistralai/Mistral-7B-v0.1\"\n",
    "model_max_length = 512\n",
    "project = \"alpaca-finetune\"\n",
    "base_model_name = \"mistral\"\n",
    "run_name = base_model_name + \"-\" + project\n",
    "output_dir = \"./\" + run_name"
   ],
   "metadata": {
    "collapsed": false,
    "ExecuteTime": {
     "end_time": "2023-11-26T18:36:17.324954100Z",
     "start_time": "2023-11-26T18:36:17.310939500Z"
    }
   },
   "id": "590bfe4700d78ecc"
  },
  {
   "cell_type": "code",
   "execution_count": 3,
   "outputs": [],
   "source": [
    "# tokenizer\n",
    "tokenizer = AutoTokenizer.from_pretrained(base_model_id, add_bos_token=True)"
   ],
   "metadata": {
    "collapsed": false,
    "ExecuteTime": {
     "end_time": "2023-11-26T18:36:19.894651300Z",
     "start_time": "2023-11-26T18:36:19.618072Z"
    }
   },
   "id": "c3ad788e90f3516d"
  },
  {
   "cell_type": "code",
   "execution_count": 4,
   "outputs": [
    {
     "data": {
      "text/plain": "Loading checkpoint shards:   0%|          | 0/2 [00:00<?, ?it/s]",
      "application/vnd.jupyter.widget-view+json": {
       "version_major": 2,
       "version_minor": 0,
       "model_id": "9ddcd0bae6bd4181b34982d196412643"
      }
     },
     "metadata": {},
     "output_type": "display_data"
    }
   ],
   "source": [
    "# model\n",
    "bnb = BitsAndBytesConfig(load_in_4bit=True,\n",
    "                         bnb_4bit_use_double_quant=True,\n",
    "                         bnb_4bit_quant_type=\"nf4\",\n",
    "                         bnb_4bit_compute_dtype=torch.bfloat16)\n",
    "\n",
    "base_model = AutoModelForCausalLM.from_pretrained(base_model_id, quantization_config=bnb)\n",
    "model =PeftModel.from_pretrained(base_model, 'mistral-alpaca-finetune/checkpoint-1000')"
   ],
   "metadata": {
    "collapsed": false,
    "ExecuteTime": {
     "end_time": "2023-11-26T18:36:29.902745600Z",
     "start_time": "2023-11-26T18:36:20.916795900Z"
    }
   },
   "id": "bc1a0507bdbe4228"
  },
  {
   "cell_type": "code",
   "execution_count": 5,
   "outputs": [],
   "source": [
    "# evaluation inputs\n",
    "eval_input = {'instruction': 'Construct a metaphor that compares life to a road.'}\n",
    "eval_prompt = (\"Below is an instruction that describes a task. \"\n",
    "            \"Write a response that appropriately completes the request.\\n\\n\"\n",
    "            \"### Instruction:\\n{instruction}\\n\\n### Response:\\n\").format_map(eval_input)"
   ],
   "metadata": {
    "collapsed": false,
    "ExecuteTime": {
     "end_time": "2023-11-26T18:36:32.997058600Z",
     "start_time": "2023-11-26T18:36:32.985005200Z"
    }
   },
   "id": "1459137aad90c14"
  },
  {
   "cell_type": "code",
   "execution_count": 6,
   "outputs": [
    {
     "name": "stderr",
     "output_type": "stream",
     "text": [
      "Setting `pad_token_id` to `eos_token_id`:2 for open-end generation.\n"
     ]
    },
    {
     "name": "stdout",
     "output_type": "stream",
     "text": [
      "<s> Below is an instruction that describes a task. Write a response that appropriately completes the request.\n",
      "\n",
      "### Instruction:\n",
      "Construct a metaphor that compares life to a road.\n",
      "\n",
      "### Response:\n",
      "Life is like a road, with twists and turns, ups and downs, and unexpected detours. Just as a road leads to different destinations, life presents us with choices and opportunities to take different paths. Sometimes, we may feel lost or unsure of where we are going, but with perseverance and determination, we can find our way and reach our destination. Along the way, we may encounter obstacles and challenges, but with the right tools and support, we can overcome them and keep moving forward. Ultimately, the journey of life is about finding our purpose, making the most of our time, and enjoying the ride. Just as a road leads to new adventures and experiences, life is a journey filled with opportunities to grow, learn, and discover. So, let's hit the road and make the most of every mile.</s>\n"
     ]
    }
   ],
   "source": [
    "# eval\n",
    "input = tokenizer(eval_prompt, return_tensors=\"pt\").to('cuda')\n",
    "model.eval()\n",
    "with torch.no_grad():\n",
    "    print(tokenizer.decode(model.generate(**input, max_new_tokens=model_max_length)[0]))"
   ],
   "metadata": {
    "collapsed": false,
    "ExecuteTime": {
     "end_time": "2023-11-26T18:36:49.586612500Z",
     "start_time": "2023-11-26T18:36:35.033149100Z"
    }
   },
   "id": "babb041db9e5f3a8"
  },
  {
   "cell_type": "code",
   "execution_count": null,
   "outputs": [],
   "source": [],
   "metadata": {
    "collapsed": false
   },
   "id": "af326691ad625aa4"
  }
 ],
 "metadata": {
  "kernelspec": {
   "display_name": "Python 3",
   "language": "python",
   "name": "python3"
  },
  "language_info": {
   "codemirror_mode": {
    "name": "ipython",
    "version": 2
   },
   "file_extension": ".py",
   "mimetype": "text/x-python",
   "name": "python",
   "nbconvert_exporter": "python",
   "pygments_lexer": "ipython2",
   "version": "2.7.6"
  }
 },
 "nbformat": 4,
 "nbformat_minor": 5
}
